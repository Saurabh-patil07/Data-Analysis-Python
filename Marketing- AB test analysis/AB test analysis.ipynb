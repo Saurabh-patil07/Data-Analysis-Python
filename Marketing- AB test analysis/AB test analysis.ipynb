{
 "cells": [
  {
   "cell_type": "markdown",
   "metadata": {},
   "source": [
    "# AB Test Analysis"
   ]
  },
  {
   "cell_type": "code",
   "execution_count": 1,
   "metadata": {
    "collapsed": true
   },
   "outputs": [],
   "source": [
    "import pandas as pd\n",
    "from scipy import stats\n",
    "df = pd.read_csv('data.csv')"
   ]
  },
  {
   "cell_type": "markdown",
   "metadata": {},
   "source": [
    "## Frequestist Statistics"
   ]
  },
  {
   "cell_type": "code",
   "execution_count": 2,
   "metadata": {
    "collapsed": true
   },
   "outputs": [],
   "source": [
    "def zTest(X1, sd1, n1, X2, sd2, n2, mudiff):\n",
    "    from numpy import sqrt, abs, round\n",
    "    from scipy.stats import norm\n",
    "    pooledSE = sqrt(sd1**2/n1 + sd2**2/n2)\n",
    "    z = ((X1 - X2) - mudiff)/pooledSE\n",
    "    pval = 2*(1 - norm.cdf(abs(z)))\n",
    "    return round(z, 3), round(pval, 4)"
   ]
  },
  {
   "cell_type": "code",
   "execution_count": 3,
   "metadata": {
    "collapsed": true
   },
   "outputs": [],
   "source": [
    "# Insert python code here to find these KPI's.  Feel free to add additional notebook cells as needed.\n",
    "df['revenue'] = df.iap_net+df.offerwall_net+df.video_net\n",
    "n_var= df.variant.value_counts()"
   ]
  },
  {
   "cell_type": "markdown",
   "metadata": {},
   "source": [
    "For AB test analysis, following hypothesis is tested-\n",
    "Null Hypothesis (H0): Two means are same and there is no significant difference statistically.\n",
    "Alternative Hypothesis (H1): Two means are significantly different than each other statistically, so mathematical difference holds true."
   ]
  },
  {
   "cell_type": "code",
   "execution_count": 4,
   "metadata": {},
   "outputs": [
    {
     "name": "stdout",
     "output_type": "stream",
     "text": [
      "variant\n",
      "1D_Cooldown    9.523712\n",
      "3D_Cooldown    9.405551\n",
      "Name: s_duration, dtype: float64\n"
     ]
    }
   ],
   "source": [
    "#Retention\n",
    "d1 = df.groupby('variant')['s_duration'].mean()/60\n",
    "s1 = df.groupby('variant')['s_duration'].std()/60\n",
    "#Ztest = |u1-u2|/(s/sqrt(n))\n",
    "print(d1)"
   ]
  },
  {
   "cell_type": "markdown",
   "metadata": {},
   "source": [
    "### Z-test for Retention"
   ]
  },
  {
   "cell_type": "code",
   "execution_count": 5,
   "metadata": {},
   "outputs": [
    {
     "data": {
      "text/plain": [
       "(1.2829999999999999, 0.19950000000000001)"
      ]
     },
     "execution_count": 5,
     "metadata": {},
     "output_type": "execute_result"
    }
   ],
   "source": [
    "zTest(d1[0],s1[0],n_var[1],d1[1],s1[1],n_var[0], 0)"
   ]
  },
  {
   "cell_type": "markdown",
   "metadata": {},
   "source": [
    "As shown above p-value > 0.05. So at 95% confidence interval, we can't reject null hypothesis that both means are not significantly different.\n",
    "Hence, we can infer that no variant is better than one another in player retention, mathematically and statistically."
   ]
  },
  {
   "cell_type": "markdown",
   "metadata": {},
   "source": [
    "### t-test for Retention "
   ]
  },
  {
   "cell_type": "code",
   "execution_count": 6,
   "metadata": {},
   "outputs": [
    {
     "data": {
      "text/plain": [
       "Ttest_indResult(statistic=1.2834951290347938, pvalue=0.19932107834723095)"
      ]
     },
     "execution_count": 6,
     "metadata": {},
     "output_type": "execute_result"
    }
   ],
   "source": [
    "stats.ttest_ind_from_stats(d1[0],s1[0],n_var[1],d1[1],s1[1],n_var[0])"
   ]
  },
  {
   "cell_type": "code",
   "execution_count": 7,
   "metadata": {
    "scrolled": true
   },
   "outputs": [
    {
     "name": "stdout",
     "output_type": "stream",
     "text": [
      "variant\n",
      "1D_Cooldown    2.414446\n",
      "3D_Cooldown    2.537845\n",
      "Name: revenue, dtype: float64\n"
     ]
    }
   ],
   "source": [
    "#Monetization\n",
    "d2 = df.groupby('variant')['revenue'].mean()\n",
    "s2 = df.groupby('variant')['revenue'].std()\n",
    "print(d2)"
   ]
  },
  {
   "cell_type": "markdown",
   "metadata": {},
   "source": [
    "### Z-test for Monetization"
   ]
  },
  {
   "cell_type": "code",
   "execution_count": 8,
   "metadata": {},
   "outputs": [
    {
     "data": {
      "text/plain": [
       "(-6.0339999999999998, 0.0)"
      ]
     },
     "execution_count": 8,
     "metadata": {},
     "output_type": "execute_result"
    }
   ],
   "source": [
    "zTest(d2[0],s2[0],n_var[1],d2[1],s2[1],n_var[0], 0)"
   ]
  },
  {
   "cell_type": "markdown",
   "metadata": {},
   "source": [
    "As shown above Z_mon < 0.05. So at 95% confidence interval, we can reject null hypothesis and accept alternate hypothesis that two means are significantly different from each other statistically. Hence, we can infer that 3D_Cooldown performs better than 1D_Cooldown statistically and mathematically."
   ]
  },
  {
   "cell_type": "markdown",
   "metadata": {},
   "source": [
    "### t-test for Monetization"
   ]
  },
  {
   "cell_type": "code",
   "execution_count": 9,
   "metadata": {},
   "outputs": [
    {
     "data": {
      "text/plain": [
       "Ttest_indResult(statistic=-6.0301204613729089, pvalue=1.6430142394875688e-09)"
      ]
     },
     "execution_count": 9,
     "metadata": {},
     "output_type": "execute_result"
    }
   ],
   "source": [
    "stats.ttest_ind_from_stats(d2[0],s2[0],n_var[1],d2[1],s2[1],n_var[0])"
   ]
  },
  {
   "cell_type": "markdown",
   "metadata": {},
   "source": [
    "As shown above p-value > 0.05. So at 95% confidence interval, we can't reject null hypothesis that two means for monetization are same and there is no significant difference statistically.\n",
    "Hence, mathematically 3D_cooldown performs better than 1D_cooldown in terms of monetization, but statistically there isn't enough evidence that 3D_cooldown is better than 1D_cooldown in monetization."
   ]
  },
  {
   "cell_type": "code",
   "execution_count": 10,
   "metadata": {},
   "outputs": [
    {
     "name": "stdout",
     "output_type": "stream",
     "text": [
      "variant\n",
      "1D_Cooldown    1.189791\n",
      "3D_Cooldown    1.201319\n",
      "Name: days_elapsed, dtype: float64\n"
     ]
    }
   ],
   "source": [
    "#Engagement\n",
    "d3 = df.groupby('variant')['days_elapsed'].mean()\n",
    "s3 = df.groupby('variant')['days_elapsed'].std()\n",
    "print(d3)"
   ]
  },
  {
   "cell_type": "markdown",
   "metadata": {},
   "source": [
    "### Z-test for Engagement"
   ]
  },
  {
   "cell_type": "code",
   "execution_count": 11,
   "metadata": {},
   "outputs": [
    {
     "data": {
      "text/plain": [
       "(-1.3460000000000001, 0.1782)"
      ]
     },
     "execution_count": 11,
     "metadata": {},
     "output_type": "execute_result"
    }
   ],
   "source": [
    "zTest(d3[0],s3[0],n_var[1],d3[1],s3[1],n_var[0], 0)"
   ]
  },
  {
   "cell_type": "markdown",
   "metadata": {},
   "source": [
    "As shown above p-value > 0.05. So at 95% confidence interval, we can't reject null hypothesis that both means are not significantly different. Hence, we can infer that no variant is better than one another in player engagement, mathematically and statistically."
   ]
  },
  {
   "cell_type": "markdown",
   "metadata": {},
   "source": [
    "### t-test for Engagement"
   ]
  },
  {
   "cell_type": "code",
   "execution_count": 12,
   "metadata": {},
   "outputs": [
    {
     "data": {
      "text/plain": [
       "Ttest_indResult(statistic=-1.3464581785603205, pvalue=0.17815727547503668)"
      ]
     },
     "execution_count": 12,
     "metadata": {},
     "output_type": "execute_result"
    }
   ],
   "source": [
    "stats.ttest_ind_from_stats(d3[0],s3[0],n_var[1],d3[1],s3[1],n_var[0])"
   ]
  },
  {
   "cell_type": "markdown",
   "metadata": {},
   "source": [
    "### Final Conclusion-"
   ]
  },
  {
   "cell_type": "markdown",
   "metadata": {},
   "source": [
    "Comparing above three results and choosing the best one out of two- 3D_cooldown performed better than 1D_cooldown, twice mathematically and once statistically. Hence it can be inferred that 3D_cooldown works better than 1D_cooldown."
   ]
  },
  {
   "cell_type": "markdown",
   "metadata": {
    "collapsed": true
   },
   "source": [
    "## Bayesian Statistics"
   ]
  },
  {
   "cell_type": "code",
   "execution_count": null,
   "metadata": {
    "collapsed": true
   },
   "outputs": [],
   "source": [
    "import pymc3 as pm\n",
    "import seaborn as sb"
   ]
  },
  {
   "cell_type": "markdown",
   "metadata": {},
   "source": [
    "### Bayes test for Retention"
   ]
  },
  {
   "cell_type": "code",
   "execution_count": null,
   "metadata": {
    "collapsed": true
   },
   "outputs": [],
   "source": [
    "sample = df.groupby('variant')['s_duration'].sum()/60\n",
    "n = sample.sum()\n",
    "obs_r1 = sample[0]\n",
    "obs_r2 = sample[1]"
   ]
  },
  {
   "cell_type": "code",
   "execution_count": null,
   "metadata": {
    "collapsed": true
   },
   "outputs": [],
   "source": [
    "with pm.Model() as model: # context management\n",
    "    # define priors\n",
    "    prior_r1 = pm.Beta('prior_r1', alpha=2, beta=2)\n",
    "    prior_r2 = pm.Beta('prior_r2', alpha=2, beta=2)\n",
    "    \n",
    "    # define likelihood\n",
    "    like_r1 = pm.Binomial('like_r1', n=n, p=prior_r1, observed=obs_r1)\n",
    "    like_r2 = pm.Binomial('like_r2', n=n, p=prior_r2, observed=obs_r2)\n",
    "    \n",
    "    # inference\n",
    "    trace = pm.sample(draws=50000, step=pm.Metropolis(), start=pm.find_MAP(), progressbar=False)"
   ]
  },
  {
   "cell_type": "code",
   "execution_count": null,
   "metadata": {
    "collapsed": true
   },
   "outputs": [],
   "source": [
    "_ = pm.traceplot(trace[1000:], grid=True)"
   ]
  },
  {
   "cell_type": "markdown",
   "metadata": {},
   "source": [
    "### Bayes test for Monetization"
   ]
  },
  {
   "cell_type": "code",
   "execution_count": null,
   "metadata": {
    "collapsed": true
   },
   "outputs": [],
   "source": [
    "sample = df.groupby('variant')['revenue'].sum()/60\n",
    "n = sample.sum()\n",
    "obs_m1 = sample[0]\n",
    "obs_m2 = sample[1]"
   ]
  },
  {
   "cell_type": "code",
   "execution_count": null,
   "metadata": {
    "collapsed": true
   },
   "outputs": [],
   "source": [
    "with pm.Model() as model: # context management\n",
    "    # define priors\n",
    "    prior_m1 = pm.Beta('prior_v1', alpha=2, beta=2)\n",
    "    prior_m2 = pm.Beta('prior_v2', alpha=2, beta=2)\n",
    "    \n",
    "    # define likelihood\n",
    "    like_m1 = pm.Binomial('like_v1', n=n, p=prior_m1, observed=obs_m1)\n",
    "    like_m2 = pm.Binomial('like_v2', n=n, p=prior_m2, observed=obs_m2)\n",
    "    \n",
    "    # inference\n",
    "    trace = pm.sample(draws=50000, step=pm.Metropolis(), start=pm.find_MAP(), progressbar=False)"
   ]
  },
  {
   "cell_type": "code",
   "execution_count": null,
   "metadata": {
    "collapsed": true
   },
   "outputs": [],
   "source": [
    "_ = pm.traceplot(trace[1000:], grid=True)"
   ]
  },
  {
   "cell_type": "markdown",
   "metadata": {},
   "source": [
    "### Bayes test for Engagement"
   ]
  },
  {
   "cell_type": "code",
   "execution_count": null,
   "metadata": {
    "collapsed": true
   },
   "outputs": [],
   "source": [
    "sample = df.groupby('variant')['days_elapsed'].sum()/60\n",
    "n = sample.sum()\n",
    "obs_e1 = sample[0]\n",
    "obs_e2 = sample[1]"
   ]
  },
  {
   "cell_type": "code",
   "execution_count": null,
   "metadata": {
    "collapsed": true
   },
   "outputs": [],
   "source": [
    "with pm.Model() as model: # context management\n",
    "    # define priors\n",
    "    prior_e1 = pm.Beta('prior_e1', alpha=2, beta=2)\n",
    "    prior_e2 = pm.Beta('prior_e2', alpha=2, beta=2)\n",
    "    \n",
    "    # define likelihood\n",
    "    like_e1 = pm.Binomial('like_e1', n=n, p=prior_e1, observed=obs_e1)\n",
    "    like_e2 = pm.Binomial('like_e2', n=n, p=prior_e2, observed=obs_e2)\n",
    "    \n",
    "    # inference\n",
    "    trace = pm.sample(draws=50000, step=pm.Metropolis(), start=pm.find_MAP(), progressbar=False)"
   ]
  },
  {
   "cell_type": "code",
   "execution_count": null,
   "metadata": {
    "collapsed": true
   },
   "outputs": [],
   "source": [
    "_ = pm.traceplot(trace[1000:], grid=True)"
   ]
  }
 ],
 "metadata": {
  "kernelspec": {
   "display_name": "Python 3",
   "language": "python",
   "name": "python3"
  },
  "language_info": {
   "codemirror_mode": {
    "name": "ipython",
    "version": 3
   },
   "file_extension": ".py",
   "mimetype": "text/x-python",
   "name": "python",
   "nbconvert_exporter": "python",
   "pygments_lexer": "ipython3",
   "version": "3.6.2"
  }
 },
 "nbformat": 4,
 "nbformat_minor": 2
}
